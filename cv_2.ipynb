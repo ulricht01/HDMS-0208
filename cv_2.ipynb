{
 "cells": [
  {
   "cell_type": "markdown",
   "metadata": {},
   "source": [
    "# Apply the Random Forest regression technique to control the quality of missing value handling method by calculation of the mean square error (mse) for titanic dataset. Age is a target variable. Enumerate various techniques of missing values handling to select the best method corresponded to a maximum value of data classification accuracy."
   ]
  },
  {
   "cell_type": "code",
   "execution_count": 103,
   "metadata": {},
   "outputs": [],
   "source": [
    "import pandas as pd\n",
    "from sklearn.ensemble import RandomForestRegressor\n",
    "from sklearn.metrics import mean_squared_error\n",
    "from sklearn.model_selection import train_test_split\n",
    "from sklearn.impute import IterativeImputer, KNNImputer\n",
    "from sklearn.linear_model import LinearRegression"
   ]
  },
  {
   "cell_type": "code",
   "execution_count": 105,
   "metadata": {},
   "outputs": [
    {
     "name": "stdout",
     "output_type": "stream",
     "text": [
      "(887, 7)\n",
      "(887,)\n",
      "MSE for KNN Imputation: 156.9735896822593\n",
      "MSE for MICE Imputation: 156.9735896822593\n",
      "MSE for Linear Regression Imputation: 156.9735896822593\n"
     ]
    }
   ],
   "source": [
    "data = pd.read_csv(\"https://web.stanford.edu/class/archive/cs/cs109/cs109.1166/stuff/titanic.csv\")\n",
    "\n",
    "X = data.drop(columns='Age')\n",
    "y = data['Age']\n",
    "print(X.shape)\n",
    "print(y.shape)\n",
    "\n",
    "# Imputace chybějících hodnot s MICE\n",
    "imputer_MICE = IterativeImputer(random_state=123)\n",
    "X_MICE = imputer_MICE.fit_transform(X.select_dtypes(include=['float64', 'int64']))\n",
    "\n",
    "# Imputace chybějících hodnot s KNN\n",
    "imputer_KNN = KNNImputer()\n",
    "X_KNN = imputer_KNN.fit_transform(X.select_dtypes(include=['float64', 'int64']))\n",
    "\n",
    "# Imputace chybějících hodnot s lineární regresí\n",
    "imputer_linear = IterativeImputer(estimator=LinearRegression())\n",
    "X_linear = imputer_linear.fit_transform(X.select_dtypes(include=['float64', 'int64']))\n",
    "\n",
    "# Rozdělení dat na tréninkovou a testovací sadu pro MICE\n",
    "X_train_MICE, X_test_MICE, y_train_MICE, y_test_MICE = train_test_split(X_MICE, y, test_size=0.3, random_state=123)\n",
    "\n",
    "# Rozdělení dat na tréninkovou a testovací sadu pro KNN\n",
    "X_train_KNN, X_test_KNN, y_train_KNN, y_test_KNN = train_test_split(X_KNN, y, test_size=0.3, random_state=123)\n",
    "\n",
    "# Rozdělení dat na tréninkovou a testovací sadu pro lineární regresi\n",
    "X_train_linear, X_test_linear, y_train_linear, y_test_linear = train_test_split(X_linear, y, test_size=0.3, random_state=123)\n",
    "\n",
    "# Vytvoření a trénink Random Forest modelu pro MICE\n",
    "model_MICE = RandomForestRegressor(random_state=123)\n",
    "model_MICE.fit(X_train_MICE, y_train_MICE)\n",
    "\n",
    "# Vytvoření a trénink Random Forest modelu pro KNN\n",
    "model_KNN = RandomForestRegressor(random_state=123)\n",
    "model_KNN.fit(X_train_KNN, y_train_KNN)\n",
    "\n",
    "# Vytvoření a trénink Random Forest modelu pro lineární regresi\n",
    "model_linear = RandomForestRegressor(random_state=123)\n",
    "model_linear.fit(X_train_linear, y_train_linear)\n",
    "\n",
    "# Predikce a výpočet chyby středního kvadratického (MSE) pro MICE\n",
    "predictions_MICE = model_MICE.predict(X_test_MICE)\n",
    "mse_MICE = mean_squared_error(y_test_MICE, predictions_MICE)\n",
    "\n",
    "# Predikce a výpočet chyby středního kvadratického (MSE) pro KNN\n",
    "predictions_KNN = model_KNN.predict(X_test_KNN)\n",
    "mse_KNN = mean_squared_error(y_test_KNN, predictions_KNN)\n",
    "\n",
    "# Predikce a výpočet chyby středního kvadratického (MSE) pro lineární regresi\n",
    "predictions_linear = model_linear.predict(X_test_linear)\n",
    "mse_linear = mean_squared_error(y_test_linear, predictions_linear)\n",
    "\n",
    "# Výpis výsledků MSE pro všechny metody\n",
    "print(\"MSE for KNN Imputation:\", mse_KNN)\n",
    "print(\"MSE for MICE Imputation:\", mse_MICE)\n",
    "print(\"MSE for Linear Regression Imputation:\", mse_linear)"
   ]
  }
 ],
 "metadata": {
  "kernelspec": {
   "display_name": "Python 3",
   "language": "python",
   "name": "python3"
  },
  "language_info": {
   "codemirror_mode": {
    "name": "ipython",
    "version": 3
   },
   "file_extension": ".py",
   "mimetype": "text/x-python",
   "name": "python",
   "nbconvert_exporter": "python",
   "pygments_lexer": "ipython3",
   "version": "3.10.11"
  }
 },
 "nbformat": 4,
 "nbformat_minor": 2
}
